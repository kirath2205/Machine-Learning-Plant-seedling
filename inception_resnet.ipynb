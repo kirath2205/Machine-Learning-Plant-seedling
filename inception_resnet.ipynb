{
  "nbformat": 4,
  "nbformat_minor": 0,
  "metadata": {
    "colab": {
      "name": "inception_resnet_final.ipynb",
      "provenance": [],
      "authorship_tag": "ABX9TyNTfEk2y4mYPXymaqlfpJr9",
      "include_colab_link": true
    },
    "kernelspec": {
      "name": "python3",
      "display_name": "Python 3"
    },
    "language_info": {
      "name": "python"
    }
  },
  "cells": [
    {
      "cell_type": "markdown",
      "metadata": {
        "id": "view-in-github",
        "colab_type": "text"
      },
      "source": [
        "<a href=\"https://colab.research.google.com/github/kirath2205/Machine-Learning-Plant-seedling/blob/main/inception_resnet.ipynb\" target=\"_parent\"><img src=\"https://colab.research.google.com/assets/colab-badge.svg\" alt=\"Open In Colab\"/></a>"
      ]
    },
    {
      "cell_type": "code",
      "metadata": {
        "id": "xawdIhLaXCu_"
      },
      "source": [
        "import tensorflow as tf\n",
        "import pandas as pd\n",
        "import numpy as np"
      ],
      "execution_count": null,
      "outputs": []
    },
    {
      "cell_type": "code",
      "metadata": {
        "id": "Ihy3GNMkXMDj"
      },
      "source": [
        "def define_generator():\n",
        "  height = 299\n",
        "  width = 299\n",
        "  batch_size = 16\n",
        "  train_datagen = tf.keras.preprocessing.image.ImageDataGenerator(rotation_range=360,width_shift_range=0.3,height_shift_range=0.3,shear_range=0.3,zoom_range=0.5,vertical_flip=True,horizontal_flip=True,validation_split=0.05,)\n",
        "  train_generator = train_datagen.flow_from_directory(directory='Documents/train',target_size=(299, 299),batch_size=16,color_mode='rgb',class_mode=\"categorical\",subset='training',)\n",
        "  validation_generator = train_datagen.flow_from_directory(directory='Documents/train',target_size=(width, height),batch_size=16,color_mode='rgb',class_mode=\"categorical\",subset='validation',)\n",
        "  test_datagen = tf.keras.preprocessing.image.ImageDataGenerator()\n",
        "  test_generator = test_datagen.flow_from_directory(directory='Documents/',classes=['test'],target_size=(299, 299),batch_size=1,color_mode='rgb',shuffle=False,class_mode='categorical')\n",
        "  return train_generator, validation_generator, test_generator\n"
      ],
      "execution_count": null,
      "outputs": []
    },
    {
      "cell_type": "code",
      "metadata": {
        "id": "9oY_5q_OzGff"
      },
      "source": [
        "def define_model(width, height):\n",
        "    input = tf.keras.layers.Input(shape=(width, height, 3), name='image_input')\n",
        "    main = tf.keras.applications.inception_resnet_v2.InceptionResNetV2(include_top=False, weights='imagenet')(input)\n",
        "    dense1 = tf.keras.layers.Flatten()(main)\n",
        "    dense2 = tf.keras.layers.Dense(256, activation='relu')(dense1)\n",
        "    output = tf.keras.layers.Dense(12, activation=\"softmax\")(dense2)\n",
        "    model = tf.keras.models.Model(input,  output)\n",
        "    opt = tf.keras.optimizers.Adam(lr=0.00004, beta_1=0.9, beta_2=0.999)\n",
        "    model.compile(loss=\"categorical_crossentropy\", optimizer=opt, metrics=[\"accuracy\"])\n",
        "    return model"
      ],
      "execution_count": null,
      "outputs": []
    },
    {
      "cell_type": "code",
      "metadata": {
        "id": "R1AgjoiYXbhv"
      },
      "source": [
        "model = define_model(299, 299)\n",
        "train_generator, validation_generator, test_generator = define_generator()\n",
        "\n",
        "history = model.fit(\n",
        "    train_generator,epochs = 100,steps_per_epoch = train_generator.samples // 16,validation_data = validation_generator,validation_steps = validation_generator.samples // 16,\n",
        "    callbacks=[tf.keras.callbacks.ModelCheckpoint('best_model_inception_resnet_plant_seedlings_final', monitor='val_accuracy', verbose=1, save_best_only=True),\n",
        "               tf.keras.callbacks.ReduceLROnPlateau(monitor = 'val_loss', factor = 0.7,\n",
        "                              patience = 3, min_lr = 1e-10, verbose = 1, cooldown = 1),\n",
        "               tf.keras.callbacks.EarlyStopping(monitor = 'val_loss', min_delta = 1e-2, patience = 20, verbose = 1,\n",
        "               mode = 'min', baseline = None, restore_best_weights = True)\n",
        "    ]\n",
        ")"
      ],
      "execution_count": null,
      "outputs": []
    },
    {
      "cell_type": "code",
      "metadata": {
        "id": "tsMKT8B3XeK8"
      },
      "source": [
        "import matplotlib.pyplot as plt\n",
        "\n",
        "#Plot history: Loss\n",
        "plt.figure(figsize = (9,6))\n",
        "plt.plot(history.history['val_loss'],label='Test loss')\n",
        "plt.plot(history.history['loss'],label='Train loss')\n",
        "plt.title('Loss curve for improved inception resnet model')\n",
        "plt.ylabel('Loss value')\n",
        "plt.xlabel('No. epoch')\n",
        "plt.show()\n",
        "\n",
        "# Plot history: Accuracy\n",
        "plt.figure(figsize = (9,6))\n",
        "plt.plot(history.history['val_accuracy'],label = 'Test accuracy')\n",
        "plt.plot(history.history['accuracy'],label = 'Train accuracy')\n",
        "plt.title('Accuracy curve for improved inception resnet model')\n",
        "plt.ylabel('Accuracy value (%)')\n",
        "plt.xlabel('No. epoch')\n",
        "plt.show()"
      ],
      "execution_count": null,
      "outputs": []
    },
    {
      "cell_type": "code",
      "metadata": {
        "colab": {
          "base_uri": "https://localhost:8080/"
        },
        "id": "rVsVFg5mZDdU",
        "outputId": "31aab25b-4541-4a43-e65c-e9b6ad2b9fe4"
      },
      "source": [
        "model = tf.keras.models.load_model('best_model_inception_resnet_plant_seedlings_final')\n",
        "print(len(test_gen))\n",
        "seedlings_types = [\"Black-grass\", \"Charlock\", \"Cleavers\", \"Common Chickweed\", \"Common wheat\", \"Fat Hen\",\n",
        "                \"Loose Silky-bent\", \"Maize\", \"Scentless Mayweed\", \"Shepherds Purse\", \"Small-flowered Cranesbill\",\n",
        "                \"Sugar beet\"]\n",
        "predictions = model.predict(test_generator, steps=test_generator.samples)\n",
        "\n",
        "class_list = []\n",
        "\n",
        "for i in range(0, predictions.shape[0]):\n",
        "  y_class = predictions[i, :].argmax(axis=-1)\n",
        "  class_list += [seedlings_types[y_class]]\n",
        "\n",
        "submission = pd.DataFrame()\n",
        "submission['file'] = test_generator.filenames\n",
        "submission['file'] = submission['file'].str.replace(r'test/', '')\n",
        "submission['species'] = class_list\n",
        "\n",
        "submission.to_csv('inception-resnet.csv', index=False)"
      ],
      "execution_count": null,
      "outputs": [
        {
          "output_type": "stream",
          "name": "stdout",
          "text": [
            "794\n"
          ]
        }
      ]
    },
    {
      "cell_type": "code",
      "metadata": {
        "id": "oJgeGOda5ydZ"
      },
      "source": [
        ""
      ],
      "execution_count": null,
      "outputs": []
    }
  ]
}