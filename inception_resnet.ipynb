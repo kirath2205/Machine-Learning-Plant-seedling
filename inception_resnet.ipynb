{
  "nbformat": 4,
  "nbformat_minor": 0,
  "metadata": {
    "colab": {
      "name": "inception_resnet.ipynb",
      "provenance": [],
      "authorship_tag": "ABX9TyP1BqElfzGHH5b/dYmO2Mai",
      "include_colab_link": true
    },
    "kernelspec": {
      "name": "python3",
      "display_name": "Python 3"
    },
    "language_info": {
      "name": "python"
    }
  },
  "cells": [
    {
      "cell_type": "markdown",
      "metadata": {
        "id": "view-in-github",
        "colab_type": "text"
      },
      "source": [
        "<a href=\"https://colab.research.google.com/github/kirath2205/Machine-Learning-Plant-seedling/blob/main/inception_resnet.ipynb\" target=\"_parent\"><img src=\"https://colab.research.google.com/assets/colab-badge.svg\" alt=\"Open In Colab\"/></a>"
      ]
    },
    {
      "cell_type": "code",
      "metadata": {
        "id": "ml3Go5xfWuzA"
      },
      "source": [
        "import tensorflow as tf\n",
        "import pandas as pd\n",
        "import numpy as np"
      ],
      "execution_count": 7,
      "outputs": []
    },
    {
      "cell_type": "code",
      "metadata": {
        "id": "xawdIhLaXCu_"
      },
      "source": [
        "def define_model(width, height):\n",
        "    \n",
        "    # define the input to the model\n",
        "    input_model = tf.keras.layers.Input(shape = (width, height, 3), name = 'image_input')\n",
        "    \n",
        "    # main model with Incpetion - ResNet - v2 layers\n",
        "    # omit the top layers as we are adding custom layers\n",
        "    # use transfer learning, with weights from Imagenet trained model\n",
        "    main_model = tf.keras.applications.inception_resnet_v2.InceptionResNetV2(include_top = False, weights = 'imagenet')(input_model)\n",
        "    \n",
        "    # flatten model to get appropriate dimensions\n",
        "    flattened_model = tf.keras.layers.Flatten()(main_model)\n",
        "    \n",
        "    # add custom dropout and dense layers\n",
        "    dropout_1 = tf.keras.layers.Dropout(0.5)(flattened_model)\n",
        "    dense_1 = tf.keras.layers.Dense(128, activation = 'relu', activity_regularizer=tf.keras.regularizers.l2(1e-5))(dropout_1)\n",
        "    dropout_2 = tf.keras.layers.Dropout(0.5)(dense_1)\n",
        "    \n",
        "    # output of model\n",
        "    output_model = tf.keras.layers.Dense(12, activation = \"softmax\", activity_regularizer=tf.keras.regularizers.l2(1e-5))(dropout_2)\n",
        "\n",
        "    model = tf.keras.models.Model(input_model,  output_model)\n",
        "    \n",
        "    # use Adam optimizer with model\n",
        "    optimizer = tf.keras.optimizers.Adam(lr = 5e-4, beta_1 = 0.9, beta_2 = 0.999)\n",
        "    \n",
        "    # use categorical crossentropy loss since classification task\n",
        "    model.compile(loss=\"categorical_crossentropy\", optimizer = optimizer, metrics = [\"accuracy\"])\n",
        "    return model\n"
      ],
      "execution_count": 8,
      "outputs": []
    },
    {
      "cell_type": "code",
      "metadata": {
        "id": "FvYJGEn4XIVX"
      },
      "source": [
        "def training_callbacks():\n",
        "    \n",
        "    # save best model regularly\n",
        "    save_best_model =  tf.keras.callbacks.ModelCheckpoint('best_model_inception_resnet_plant_seedlings_attempt_1', monitor='val_accuracy', verbose=1, save_best_only=True)\n",
        "    \n",
        "    # reduce learning rate when it stops decreasing\n",
        "    reduce_lr = tf.keras.callbacks.ReduceLROnPlateau(monitor = 'loss', factor = 0.8,\n",
        "                              patience = 4, min_lr = 1e-7, verbose = 1, cooldown = 1)\n",
        "    \n",
        "    # stop training early if no further improvement\n",
        "    early_stopping = tf.keras.callbacks.EarlyStopping(\n",
        "        monitor = 'loss', min_delta = 1e-2, patience = 15, verbose = 1,\n",
        "        mode = 'min', baseline = None, restore_best_weights = True\n",
        "    )\n",
        "\n",
        "    return [save_best_model, reduce_lr, early_stopping]"
      ],
      "execution_count": 17,
      "outputs": []
    },
    {
      "cell_type": "code",
      "metadata": {
        "id": "Ihy3GNMkXMDj"
      },
      "source": [
        "def define_generators():\n",
        "  height = 299\n",
        "  width = 299\n",
        "  batch_size = 32\n",
        "  train_datagen = tf.keras.preprocessing.image.ImageDataGenerator(\n",
        "        rotation_range=360,\n",
        "        width_shift_range=0.3,\n",
        "        height_shift_range=0.3,\n",
        "        shear_range=0.3,\n",
        "        zoom_range=0.5,\n",
        "        vertical_flip=True,\n",
        "        horizontal_flip=True,\n",
        "        validation_split=0.1, # change to use validation instead of training on entire training set\n",
        "    )\n",
        "\n",
        "  train_generator = train_datagen.flow_from_directory(\n",
        "        directory='Documents/train',\n",
        "        target_size=(width, height),\n",
        "        batch_size=batch_size,\n",
        "        color_mode='rgb',\n",
        "        class_mode=\"categorical\",\n",
        "        subset='training',\n",
        "    )\n",
        "\n",
        "  validation_generator = train_datagen.flow_from_directory(\n",
        "        directory='Documents/train',\n",
        "        target_size=(width, height),\n",
        "        batch_size=batch_size,\n",
        "        color_mode='rgb',\n",
        "        class_mode=\"categorical\",\n",
        "        subset='validation',\n",
        "    )\n",
        "\n",
        "  test_datagen = tf.keras.preprocessing.image.ImageDataGenerator()\n",
        "\n",
        "  test_generator = test_datagen.flow_from_directory(\n",
        "        directory='Documents/',\n",
        "        classes=['test'],\n",
        "        target_size=(width, height),\n",
        "        batch_size=1,\n",
        "        color_mode='rgb',\n",
        "        shuffle=False,\n",
        "        class_mode='categorical')\n",
        "\n",
        "  return train_generator, validation_generator, test_generator\n"
      ],
      "execution_count": 21,
      "outputs": []
    },
    {
      "cell_type": "code",
      "metadata": {
        "id": "j-KEsaaXXXad"
      },
      "source": [
        "height = 299\n",
        "width = 299\n",
        "num_epochs = 200\n",
        "batch_size = 32"
      ],
      "execution_count": 22,
      "outputs": []
    },
    {
      "cell_type": "code",
      "metadata": {
        "colab": {
          "base_uri": "https://localhost:8080/"
        },
        "id": "R1AgjoiYXbhv",
        "outputId": "6cb8b7dc-ccbd-479f-ef52-7770627dba8d"
      },
      "source": [
        "model = define_model(width, height)\n",
        "train_gen, validation_gen, test_gen = define_generators()\n",
        "\n",
        "# the actual training\n",
        "history = model.fit(\n",
        "    train_gen,\n",
        "    callbacks = training_callbacks(),\n",
        "    epochs = num_epochs,\n",
        "    steps_per_epoch = train_gen.samples // batch_size,\n",
        "    validation_data = validation_gen,\n",
        "    validation_steps = validation_gen.samples // batch_size,\n",
        ")"
      ],
      "execution_count": null,
      "outputs": [
        {
          "output_type": "stream",
          "name": "stdout",
          "text": [
            "Found 4279 images belonging to 12 classes.\n",
            "Found 471 images belonging to 12 classes.\n",
            "Found 794 images belonging to 1 classes.\n",
            "Epoch 1/200\n",
            "133/133 [==============================] - ETA: 0s - loss: 2.5908 - accuracy: 0.1253\n",
            "Epoch 00001: val_accuracy improved from -inf to 0.13616, saving model to best_model_inception_resnet_plant_seedlings_attempt_1\n",
            "WARNING:tensorflow:From /usr/local/lib/python3.6/dist-packages/tensorflow/python/ops/resource_variable_ops.py:1817: calling BaseResourceVariable.__init__ (from tensorflow.python.ops.resource_variable_ops) with constraint is deprecated and will be removed in a future version.\n",
            "Instructions for updating:\n",
            "If using Keras pass *_constraint arguments to layers.\n",
            "INFO:tensorflow:Assets written to: best_model_inception_resnet_plant_seedlings_attempt_1/assets\n",
            "133/133 [==============================] - 142s 1s/step - loss: 2.5908 - accuracy: 0.1253 - val_loss: 2.4748 - val_accuracy: 0.1362 - lr: 5.0000e-04\n",
            "Epoch 2/200\n",
            " 64/133 [=============>................] - ETA: 36s - loss: 2.4720 - accuracy: 0.1388"
          ]
        }
      ]
    },
    {
      "cell_type": "code",
      "metadata": {
        "id": "tsMKT8B3XeK8"
      },
      "source": [
        "import matplotlib.pyplot as plt\n",
        "\n",
        "plt.figure(figsize = (9,6))\n",
        "plt.plot(history.history['val_loss'],label='Test loss')\n",
        "plt.plot(history.history['loss'],label='Train loss')\n",
        "plt.title('Loss curve for improved vgg16 model')\n",
        "plt.ylabel('Loss value')\n",
        "plt.xlabel('No. epoch')\n",
        "plt.show()\n",
        "\n",
        "# Plot history: Accuracy\n",
        "plt.figure(figsize = (9,6))\n",
        "plt.plot(history.history['val_accuracy'],label = 'Test accuracy')\n",
        "plt.plot(history.history['accuracy'],label = 'Train accuracy')\n",
        "plt.title('Accuracy curve for improved vgg16 model')\n",
        "plt.ylabel('Accuracy value (%)')\n",
        "plt.xlabel('No. epoch')\n",
        "plt.show()"
      ],
      "execution_count": null,
      "outputs": []
    },
    {
      "cell_type": "code",
      "metadata": {
        "id": "rVsVFg5mZDdU"
      },
      "source": [
        "model = tf.keras.models.load_model('best_model_inception_resnet_plant_seedlings_attempt_1')\n",
        "print(len(test_generator))\n",
        "seedlings_types = [\"Black-grass\", \"Charlock\", \"Cleavers\", \"Common Chickweed\", \"Common wheat\", \"Fat Hen\",\n",
        "                \"Loose Silky-bent\", \"Maize\", \"Scentless Mayweed\", \"Shepherds Purse\", \"Small-flowered Cranesbill\",\n",
        "                \"Sugar beet\"]\n",
        "predictions = model.predict(test_generator, steps=test_generator.samples)\n",
        "\n",
        "#predictions = model.predict(test_generator, steps=test_generator.samples)\n",
        "\n",
        "class_list = []\n",
        "\n",
        "for i in range(0, predictions.shape[0]):\n",
        "  y_class = predictions[i, :].argmax(axis=-1)\n",
        "  class_list += [seedlings_types[y_class]]\n",
        "\n",
        "submission = pd.DataFrame()\n",
        "submission['file'] = test_generator.filenames\n",
        "submission['file'] = submission['file'].str.replace(r'test/', '')\n",
        "submission['species'] = class_list\n",
        "\n",
        "submission.to_csv('inception_resnet_submission_attempt_1.csv', index=False)"
      ],
      "execution_count": null,
      "outputs": []
    }
  ]
}